{
 "cells": [
  {
   "cell_type": "markdown",
   "id": "f16c3618",
   "metadata": {},
   "source": [
    "# INTRODUCTION"
   ]
  },
  {
   "cell_type": "markdown",
   "id": "71d6a939",
   "metadata": {},
   "source": [
    "This project is the second project of the  Udacity Data Analyst Nanodegree program and it primary focus on data wrangling.\n",
    "The data for the project is gotten from  twitter WeRateDogsaccount.\n",
    "Python is the tool use for this project with some other libraries like pandas, matplotlib ,request and seaborn.\n",
    "the gathering and cleaning process is documented in a jupyter notebook."
   ]
  },
  {
   "cell_type": "markdown",
   "id": "72c5e81e",
   "metadata": {},
   "source": [
    "# The Data Gathering\n"
   ]
  },
  {
   "cell_type": "markdown",
   "id": "8597d789",
   "metadata": {},
   "source": [
    "Three different data which was later merge into one was used for the project\n",
    "The first data is the WeRateDogs twitter-archive-enhanced.csv which was provided by Udacity in csv format\n",
    "and contain the folowing columns;tweet_id,in_reply_to_status_id,in_reply_to_user_id,timestamp,source,text,retweeted_status_id,\n",
    "retweeted_status_user_id,retweeted_status_timestamp,expanded_urls,rating_numerator,rating_denominator,name,doggo,floofer,pupper,puppo)\n",
    "\n",
    "Although not all the columns are valid  as some have high percentage of null values,some columns need to be tidied , some are\n",
    "not important.\n",
    "\n",
    "The second data is the image-predictions.tsv ,the url link was provided by Udacity was programmatically downloaded using request\n",
    "library,\n",
    "it contains the following columns;tweet_id,jpg_url,img_num,p1,p1_conf,p1_dog,p2,p2_conf,p2_dog,p3,p3_conf,p3_dog\n",
    "\n",
    "The third data is from the twitter API but since i couldnt get developer access on twitter i use the json file provided by \n",
    "udacity which i read line by line into pandas dataframe,the line i read are;id,retweet_count,favorite_count because thats what i require\n",
    "\n"
   ]
  },
  {
   "cell_type": "markdown",
   "id": "f41805b5",
   "metadata": {},
   "source": [
    "# Data assessing"
   ]
  },
  {
   "cell_type": "markdown",
   "id": "face6468",
   "metadata": {},
   "source": [
    "The data  was asses visually by scrolling through  each of it in excel and programmatically using pandas and \n",
    "methods such as .head(),.info() etc\n",
    "from assessing the data,some issues were discovrered from the dataset,the issues were seperated into tidyness issues and quality issues"
   ]
  },
  {
   "cell_type": "markdown",
   "id": "31ae1e37",
   "metadata": {},
   "source": [
    "# Data Cleaning"
   ]
  },
  {
   "cell_type": "markdown",
   "id": "0e35d998",
   "metadata": {},
   "source": [
    "The first  and important step in data cleaning is making a copy of the original dataset ,its the copied dataset that the \n",
    "cleaning is performed on so that the original data remain intact\n",
    "\n",
    "The datasets were cleaned in three steps which are the \n",
    "\n",
    "define;here the solution to the problem is defineed\n",
    "\n",
    "code; the code to effect the cleaning is done at this stage\n",
    "\n",
    "test; the issue is re-assesed to see if its still there\n",
    "\n",
    "one of the cleaning challenge i had is combining the pupper,floofer,pupperer and puppo column  into one"
   ]
  },
  {
   "cell_type": "markdown",
   "id": "4cef6bb0",
   "metadata": {},
   "source": [
    "# Conclusion\n"
   ]
  },
  {
   "cell_type": "markdown",
   "id": "7e6c84ab",
   "metadata": {},
   "source": [
    "Data wrangling is an important and useful skill in data analysis because it can be use to extract data from different source \n",
    "and it better for big data compared to excel"
   ]
  },
  {
   "cell_type": "code",
   "execution_count": null,
   "id": "8a329a60",
   "metadata": {},
   "outputs": [],
   "source": []
  }
 ],
 "metadata": {
  "kernelspec": {
   "display_name": "Python 3",
   "language": "python",
   "name": "python3"
  },
  "language_info": {
   "codemirror_mode": {
    "name": "ipython",
    "version": 3
   },
   "file_extension": ".py",
   "mimetype": "text/x-python",
   "name": "python",
   "nbconvert_exporter": "python",
   "pygments_lexer": "ipython3",
   "version": "3.8.8"
  }
 },
 "nbformat": 4,
 "nbformat_minor": 5
}
